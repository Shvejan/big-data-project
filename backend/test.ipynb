{
 "cells": [
  {
   "cell_type": "code",
   "execution_count": 1,
   "metadata": {},
   "outputs": [],
   "source": [
    "import requests\n",
    "import pandas as pd\n",
    "import duckdb\n",
    "import json\n",
    "import datamart_profiler\n",
    "resp=requests.get('https://auctus.vida-nyu.org/api/v1/download/datamart.zenodo.3733554.87ed9e35-0f51-49cb-a73c-c0e3581051f5')"
   ]
  },
  {
   "cell_type": "code",
   "execution_count": 2,
   "metadata": {},
   "outputs": [],
   "source": [
    "data=resp.content.decode()\n",
    "list=[x.split(',') for x in data.split('\\n')]\n",
    "\n",
    "df=pd.DataFrame(list[1:],columns=list[0])\n"
   ]
  },
  {
   "cell_type": "code",
   "execution_count": 29,
   "metadata": {},
   "outputs": [],
   "source": [
    "df=df['Total cases'].astype(float)"
   ]
  },
  {
   "cell_type": "code",
   "execution_count": 27,
   "metadata": {},
   "outputs": [
    {
     "name": "stderr",
     "output_type": "stream",
     "text": [
      "/home/aromston/software/anaconda3/envs/spark/lib/python3.9/site-packages/sklearn/cluster/_kmeans.py:870: FutureWarning: The default value of `n_init` will change from 10 to 'auto' in 1.4. Set the value of `n_init` explicitly to suppress the warning\n",
      "  warnings.warn(\n",
      "/home/aromston/software/anaconda3/envs/spark/lib/python3.9/site-packages/sklearn/cluster/_kmeans.py:870: FutureWarning: The default value of `n_init` will change from 10 to 'auto' in 1.4. Set the value of `n_init` explicitly to suppress the warning\n",
      "  warnings.warn(\n",
      "/home/aromston/software/anaconda3/envs/spark/lib/python3.9/site-packages/sklearn/cluster/_kmeans.py:870: FutureWarning: The default value of `n_init` will change from 10 to 'auto' in 1.4. Set the value of `n_init` explicitly to suppress the warning\n",
      "  warnings.warn(\n",
      "/home/aromston/software/anaconda3/envs/spark/lib/python3.9/site-packages/sklearn/cluster/_kmeans.py:870: FutureWarning: The default value of `n_init` will change from 10 to 'auto' in 1.4. Set the value of `n_init` explicitly to suppress the warning\n",
      "  warnings.warn(\n",
      "Unmatched longitude columns: ['Lon']\n"
     ]
    },
    {
     "name": "stdout",
     "output_type": "stream",
     "text": [
      "Country http://schema.org/Text\n",
      "Total cases http://schema.org/Integer\n",
      "New cases http://schema.org/Text\n",
      "Total deaths http://schema.org/Text\n",
      "New deaths http://schema.org/Text\n",
      "Total recovered http://schema.org/Text\n",
      "Active cases http://schema.org/Integer\n",
      "Critical cases http://schema.org/Text\n",
      "Cases/1M pop http://schema.org/Float\n",
      "Lon http://schema.org/Float\n",
      " http://schema.org/Text\n"
     ]
    }
   ],
   "source": [
    "profiles=datamart_profiler.process_dataset(df)\n",
    "for c in profiles['columns']:\n",
    "    print(c['name'],c['structural_type'])\n",
    "    if('Integer' in c['structural_type']):\n",
    "        df=df[c['name']].astype(int)"
   ]
  },
  {
   "cell_type": "code",
   "execution_count": 24,
   "metadata": {},
   "outputs": [
    {
     "data": {
      "text/plain": [
       "Country            object\n",
       "Total cases        object\n",
       "New cases          object\n",
       "Total deaths       object\n",
       "New deaths         object\n",
       "Total recovered    object\n",
       "Active cases       object\n",
       "Critical cases     object\n",
       "Cases/1M pop       object\n",
       "Lon                object\n",
       "Lat\\r              object\n",
       "dtype: object"
      ]
     },
     "execution_count": 24,
     "metadata": {},
     "output_type": "execute_result"
    }
   ],
   "source": [
    "df.dtypes"
   ]
  },
  {
   "cell_type": "code",
   "execution_count": 4,
   "metadata": {},
   "outputs": [],
   "source": [
    "id=\"datamart.zenodo.3733554.87ed9e35-0f51-49cb-a73c-c0e3581051f5\"\n",
    "filename=id.replace(\".\",\"_\").replace(\"-\",\"_\")+\".parquet\"\n"
   ]
  },
  {
   "cell_type": "code",
   "execution_count": 5,
   "metadata": {},
   "outputs": [],
   "source": [
    "df.to_parquet(filename)"
   ]
  },
  {
   "cell_type": "code",
   "execution_count": 6,
   "metadata": {},
   "outputs": [
    {
     "data": {
      "text/plain": [
       "Country            object\n",
       "Total cases        object\n",
       "New cases          object\n",
       "Total deaths       object\n",
       "New deaths         object\n",
       "Total recovered    object\n",
       "Active cases       object\n",
       "Critical cases     object\n",
       "Cases/1M pop       object\n",
       "Lon                object\n",
       "Lat\\r              object\n",
       "dtype: object"
      ]
     },
     "execution_count": 6,
     "metadata": {},
     "output_type": "execute_result"
    }
   ],
   "source": [
    "df.dtypes"
   ]
  },
  {
   "cell_type": "code",
   "execution_count": 14,
   "metadata": {},
   "outputs": [],
   "source": [
    "con=duckdb.connect(\"testdb.db\")\n",
    "res=con.sql(\" describe select * from \"+filename).fetchdf()"
   ]
  },
  {
   "cell_type": "code",
   "execution_count": 10,
   "metadata": {},
   "outputs": [],
   "source": [
    "json_resp=df.to_json(orient='records')"
   ]
  },
  {
   "cell_type": "code",
   "execution_count": 11,
   "metadata": {},
   "outputs": [],
   "source": [
    "dicts=json.loads(json_resp)"
   ]
  },
  {
   "cell_type": "code",
   "execution_count": null,
   "metadata": {},
   "outputs": [],
   "source": []
  },
  {
   "cell_type": "code",
   "execution_count": null,
   "metadata": {},
   "outputs": [],
   "source": []
  }
 ],
 "metadata": {
  "kernelspec": {
   "display_name": "gpu",
   "language": "python",
   "name": "python3"
  },
  "language_info": {
   "codemirror_mode": {
    "name": "ipython",
    "version": 3
   },
   "file_extension": ".py",
   "mimetype": "text/x-python",
   "name": "python",
   "nbconvert_exporter": "python",
   "pygments_lexer": "ipython3",
   "version": "3.9.16"
  },
  "orig_nbformat": 4
 },
 "nbformat": 4,
 "nbformat_minor": 2
}
