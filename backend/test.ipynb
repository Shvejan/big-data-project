{
 "cells": [
  {
   "cell_type": "code",
   "execution_count": 1,
   "metadata": {},
   "outputs": [
    {
     "ename": "ModuleNotFoundError",
     "evalue": "No module named 'urllib3'",
     "output_type": "error",
     "traceback": [
      "\u001b[0;31m---------------------------------------------------------------------------\u001b[0m",
      "\u001b[0;31mModuleNotFoundError\u001b[0m                       Traceback (most recent call last)",
      "Cell \u001b[0;32mIn[1], line 1\u001b[0m\n\u001b[0;32m----> 1\u001b[0m \u001b[39mimport\u001b[39;00m \u001b[39mrequests\u001b[39;00m\n\u001b[1;32m      2\u001b[0m \u001b[39mimport\u001b[39;00m \u001b[39mpandas\u001b[39;00m \u001b[39mas\u001b[39;00m \u001b[39mpd\u001b[39;00m\n\u001b[1;32m      3\u001b[0m \u001b[39mimport\u001b[39;00m \u001b[39mduckdb\u001b[39;00m\n",
      "File \u001b[0;32m~/software/anaconda3/envs/spark/lib/python3.9/site-packages/requests/__init__.py:43\u001b[0m\n\u001b[1;32m      6\u001b[0m \u001b[39m\"\"\"\u001b[39;00m\n\u001b[1;32m      7\u001b[0m \u001b[39mRequests HTTP Library\u001b[39;00m\n\u001b[1;32m      8\u001b[0m \u001b[39m~~~~~~~~~~~~~~~~~~~~~\u001b[39;00m\n\u001b[0;32m   (...)\u001b[0m\n\u001b[1;32m     38\u001b[0m \u001b[39m:license: Apache 2.0, see LICENSE for more details.\u001b[39;00m\n\u001b[1;32m     39\u001b[0m \u001b[39m\"\"\"\u001b[39;00m\n\u001b[1;32m     41\u001b[0m \u001b[39mimport\u001b[39;00m \u001b[39mwarnings\u001b[39;00m\n\u001b[0;32m---> 43\u001b[0m \u001b[39mimport\u001b[39;00m \u001b[39murllib3\u001b[39;00m\n\u001b[1;32m     45\u001b[0m \u001b[39mfrom\u001b[39;00m \u001b[39m.\u001b[39;00m\u001b[39mexceptions\u001b[39;00m \u001b[39mimport\u001b[39;00m RequestsDependencyWarning\n\u001b[1;32m     47\u001b[0m \u001b[39mtry\u001b[39;00m:\n",
      "\u001b[0;31mModuleNotFoundError\u001b[0m: No module named 'urllib3'"
     ]
    }
   ],
   "source": [
    "import requests\n",
    "import pandas as pd\n",
    "import duckdb\n",
    "import json\n",
    "import datamart_profiler\n",
    "id=\"datamart.zenodo.3733554.87ed9e35-0f51-49cb-a73c-c0e3581051f5\"\n",
    "filename=id.replace(\".\",\"_\").replace(\"-\",\"_\")+\".parquet\"\n",
    "resp=requests.get('https://auctus.vida-nyu.org/api/v1/download/'+id)"
   ]
  },
  {
   "cell_type": "code",
   "execution_count": null,
   "metadata": {},
   "outputs": [],
   "source": [
    "data=resp.content.decode()\n",
    "list=[x.split(',') for x in data.split('\\n')]\n",
    "\n",
    "df=pd.DataFrame(list[1:],columns=list[0])\n"
   ]
  },
  {
   "cell_type": "code",
   "execution_count": 2,
   "metadata": {},
   "outputs": [
    {
     "ename": "NameError",
     "evalue": "name 'df' is not defined",
     "output_type": "error",
     "traceback": [
      "\u001b[0;31m---------------------------------------------------------------------------\u001b[0m",
      "\u001b[0;31mNameError\u001b[0m                                 Traceback (most recent call last)",
      "Cell \u001b[0;32mIn[2], line 1\u001b[0m\n\u001b[0;32m----> 1\u001b[0m df\u001b[39m.\u001b[39mcolumns\n",
      "\u001b[0;31mNameError\u001b[0m: name 'df' is not defined"
     ]
    }
   ],
   "source": [
    "df.columns"
   ]
  },
  {
   "cell_type": "code",
   "execution_count": 3,
   "metadata": {},
   "outputs": [
    {
     "ename": "NameError",
     "evalue": "name 'datamart_profiler' is not defined",
     "output_type": "error",
     "traceback": [
      "\u001b[0;31m---------------------------------------------------------------------------\u001b[0m",
      "\u001b[0;31mNameError\u001b[0m                                 Traceback (most recent call last)",
      "Cell \u001b[0;32mIn[3], line 1\u001b[0m\n\u001b[0;32m----> 1\u001b[0m profiles\u001b[39m=\u001b[39mdatamart_profiler\u001b[39m.\u001b[39mprocess_dataset(df)\n\u001b[1;32m      2\u001b[0m \u001b[39mfor\u001b[39;00m c \u001b[39min\u001b[39;00m profiles[\u001b[39m'\u001b[39m\u001b[39mcolumns\u001b[39m\u001b[39m'\u001b[39m]:\n\u001b[1;32m      3\u001b[0m     dtypes\u001b[39m=\u001b[39m[]\n",
      "\u001b[0;31mNameError\u001b[0m: name 'datamart_profiler' is not defined"
     ]
    }
   ],
   "source": [
    "profiles=datamart_profiler.process_dataset(df)\n",
    "for c in profiles['columns']:\n",
    "    dtypes=[]\n",
    "    dtypes.append(c['structural_type'].split('/')[-1])\n",
    "    for s in c['semantic_types']:\n",
    "        dtypes.append(s.split('/')[-1])\n",
    "    print(c['name'],dtypes)"
   ]
  },
  {
   "cell_type": "code",
   "execution_count": 4,
   "metadata": {},
   "outputs": [
    {
     "ename": "NameError",
     "evalue": "name 'df' is not defined",
     "output_type": "error",
     "traceback": [
      "\u001b[0;31m---------------------------------------------------------------------------\u001b[0m",
      "\u001b[0;31mNameError\u001b[0m                                 Traceback (most recent call last)",
      "Cell \u001b[0;32mIn[4], line 1\u001b[0m\n\u001b[0;32m----> 1\u001b[0m df\u001b[39m.\u001b[39mto_parquet(filename)\n\u001b[1;32m      2\u001b[0m df\u001b[39m.\u001b[39mto_csv(\u001b[39m'\u001b[39m\u001b[39mtest_file.csv\u001b[39m\u001b[39m'\u001b[39m)  \n",
      "\u001b[0;31mNameError\u001b[0m: name 'df' is not defined"
     ]
    }
   ],
   "source": [
    "df.to_parquet(filename)\n",
    "df.to_csv('test_file.csv')  "
   ]
  },
  {
   "cell_type": "code",
   "execution_count": 5,
   "metadata": {},
   "outputs": [
    {
     "ename": "NameError",
     "evalue": "name 'duckdb' is not defined",
     "output_type": "error",
     "traceback": [
      "\u001b[0;31m---------------------------------------------------------------------------\u001b[0m",
      "\u001b[0;31mNameError\u001b[0m                                 Traceback (most recent call last)",
      "Cell \u001b[0;32mIn[5], line 1\u001b[0m\n\u001b[0;32m----> 1\u001b[0m con\u001b[39m=\u001b[39mduckdb\u001b[39m.\u001b[39mconnect(\u001b[39m\"\u001b[39m\u001b[39mtestdb.db\u001b[39m\u001b[39m\"\u001b[39m)\n\u001b[1;32m      2\u001b[0m con\u001b[39m.\u001b[39msql(\u001b[39m\"\u001b[39m\u001b[39m describe select * from \u001b[39m\u001b[39m\"\u001b[39m\u001b[39m+\u001b[39mfilename)\u001b[39m.\u001b[39mfetchdf()\n",
      "\u001b[0;31mNameError\u001b[0m: name 'duckdb' is not defined"
     ]
    }
   ],
   "source": [
    "con=duckdb.connect(\"testdb.db\")\n",
    "con.sql(\" describe select * from \"+filename).fetchdf()"
   ]
  },
  {
   "cell_type": "code",
   "execution_count": 6,
   "metadata": {},
   "outputs": [
    {
     "ename": "NameError",
     "evalue": "name 'pd' is not defined",
     "output_type": "error",
     "traceback": [
      "\u001b[0;31m---------------------------------------------------------------------------\u001b[0m",
      "\u001b[0;31mNameError\u001b[0m                                 Traceback (most recent call last)",
      "Cell \u001b[0;32mIn[6], line 1\u001b[0m\n\u001b[0;32m----> 1\u001b[0m df[\u001b[39m'\u001b[39m\u001b[39mdate\u001b[39m\u001b[39m'\u001b[39m] \u001b[39m=\u001b[39m pd\u001b[39m.\u001b[39mto_datetime(df[\u001b[39m'\u001b[39m\u001b[39mdate\u001b[39m\u001b[39m'\u001b[39m], \u001b[39mformat\u001b[39m\u001b[39m=\u001b[39m\u001b[39m'\u001b[39m\u001b[39m%\u001b[39m\u001b[39mY-\u001b[39m\u001b[39m%\u001b[39m\u001b[39mm-\u001b[39m\u001b[39m%d\u001b[39;00m\u001b[39m'\u001b[39m)\n",
      "\u001b[0;31mNameError\u001b[0m: name 'pd' is not defined"
     ]
    }
   ],
   "source": [
    "df['date'] = pd.to_datetime(df['date'], format='%Y-%m-%d')"
   ]
  },
  {
   "cell_type": "code",
   "execution_count": 7,
   "metadata": {},
   "outputs": [
    {
     "ename": "NameError",
     "evalue": "name 'df' is not defined",
     "output_type": "error",
     "traceback": [
      "\u001b[0;31m---------------------------------------------------------------------------\u001b[0m",
      "\u001b[0;31mNameError\u001b[0m                                 Traceback (most recent call last)",
      "Cell \u001b[0;32mIn[7], line 1\u001b[0m\n\u001b[0;32m----> 1\u001b[0m df_cpy\u001b[39m=\u001b[39mdf\u001b[39m.\u001b[39mcopy()\n\u001b[1;32m      2\u001b[0m df_cpy\n\u001b[1;32m      3\u001b[0m profiles\u001b[39m=\u001b[39mdatamart_profiler\u001b[39m.\u001b[39mprocess_dataset(df_cpy)\n",
      "\u001b[0;31mNameError\u001b[0m: name 'df' is not defined"
     ]
    }
   ],
   "source": [
    "df_cpy=df.copy()\n",
    "df_cpy\n",
    "profiles=datamart_profiler.process_dataset(df_cpy)\n",
    "for c in profiles['columns']:\n",
    "    dtypes=[]\n",
    "    dtypes.append(c['structural_type'].split('/')[-1])\n",
    "    for s in c['semantic_types']:\n",
    "        dtypes.append(s.split('/')[-1])\n",
    "    try:\n",
    "        if \"DateTime\" in dtypes:\n",
    "            df_cpy[c['name']] = pd.to_datetime(df_cpy[c['name']], format='%Y-%m-%d')\n",
    "        elif \"Integer\" in dtypes:\n",
    "            df_cpy[c['name']]=df_cpy[c['name']].fillna(0).astype(float).astype(int)\n",
    "        elif \"Float\" in dtypes:\n",
    "            df_cpy[c['name']]=df_cpy[c['name']].fillna(0).astype(float)\n",
    "        elif \"Text\" in dtypes:\n",
    "            df_cpy[c['name']]=df_cpy[c['name']].fillna(\"null\").astype(str)\n",
    "    except:\n",
    "        pass\n"
   ]
  },
  {
   "cell_type": "code",
   "execution_count": 8,
   "metadata": {},
   "outputs": [
    {
     "ename": "NameError",
     "evalue": "name 'df_cpy' is not defined",
     "output_type": "error",
     "traceback": [
      "\u001b[0;31m---------------------------------------------------------------------------\u001b[0m",
      "\u001b[0;31mNameError\u001b[0m                                 Traceback (most recent call last)",
      "Cell \u001b[0;32mIn[8], line 1\u001b[0m\n\u001b[0;32m----> 1\u001b[0m df_cpy\u001b[39m.\u001b[39mdtypes\n",
      "\u001b[0;31mNameError\u001b[0m: name 'df_cpy' is not defined"
     ]
    }
   ],
   "source": [
    "df_cpy.dtypes"
   ]
  },
  {
   "cell_type": "code",
   "execution_count": 9,
   "metadata": {},
   "outputs": [
    {
     "ename": "NameError",
     "evalue": "name 'df_cpy' is not defined",
     "output_type": "error",
     "traceback": [
      "\u001b[0;31m---------------------------------------------------------------------------\u001b[0m",
      "\u001b[0;31mNameError\u001b[0m                                 Traceback (most recent call last)",
      "Cell \u001b[0;32mIn[9], line 1\u001b[0m\n\u001b[0;32m----> 1\u001b[0m df_cpy\u001b[39m.\u001b[39mto_parquet(\u001b[39m\"\u001b[39m\u001b[39mdummy_p.parquet\u001b[39m\u001b[39m\"\u001b[39m)\n",
      "\u001b[0;31mNameError\u001b[0m: name 'df_cpy' is not defined"
     ]
    }
   ],
   "source": [
    "df_cpy.to_parquet(\"dummy_p.parquet\")"
   ]
  },
  {
   "cell_type": "code",
   "execution_count": 10,
   "metadata": {},
   "outputs": [
    {
     "ename": "NameError",
     "evalue": "name 'con' is not defined",
     "output_type": "error",
     "traceback": [
      "\u001b[0;31m---------------------------------------------------------------------------\u001b[0m",
      "\u001b[0;31mNameError\u001b[0m                                 Traceback (most recent call last)",
      "Cell \u001b[0;32mIn[10], line 1\u001b[0m\n\u001b[0;32m----> 1\u001b[0m con\u001b[39m.\u001b[39msql(\u001b[39m\"\u001b[39m\u001b[39m describe select * from dummy_p.parquet \u001b[39m\u001b[39m\"\u001b[39m)\n",
      "\u001b[0;31mNameError\u001b[0m: name 'con' is not defined"
     ]
    }
   ],
   "source": [
    "con.sql(\" describe select * from dummy_p.parquet \")"
   ]
  },
  {
   "cell_type": "code",
   "execution_count": 11,
   "metadata": {},
   "outputs": [
    {
     "ename": "NameError",
     "evalue": "name 'con' is not defined",
     "output_type": "error",
     "traceback": [
      "\u001b[0;31m---------------------------------------------------------------------------\u001b[0m",
      "\u001b[0;31mNameError\u001b[0m                                 Traceback (most recent call last)",
      "Cell \u001b[0;32mIn[11], line 1\u001b[0m\n\u001b[0;32m----> 1\u001b[0m con\u001b[39m.\u001b[39msql(\u001b[39m\"\u001b[39m\u001b[39m select date,count(*) from dummy_p.parquet group by date\u001b[39m\u001b[39m\"\u001b[39m)\n",
      "\u001b[0;31mNameError\u001b[0m: name 'con' is not defined"
     ]
    }
   ],
   "source": [
    "con.sql(\" select date,count(*) from dummy_p.parquet group by date\")"
   ]
  },
  {
   "cell_type": "code",
   "execution_count": 12,
   "metadata": {},
   "outputs": [
    {
     "ename": "NameError",
     "evalue": "name 'con' is not defined",
     "output_type": "error",
     "traceback": [
      "\u001b[0;31m---------------------------------------------------------------------------\u001b[0m",
      "\u001b[0;31mNameError\u001b[0m                                 Traceback (most recent call last)",
      "Cell \u001b[0;32mIn[12], line 1\u001b[0m\n\u001b[0;32m----> 1\u001b[0m con\u001b[39m.\u001b[39msql(\u001b[39m\"\u001b[39m\u001b[39mselect date,count(*) from dummy_p.parquet group by date having MONTH(date) between 1 and 2 \u001b[39m\u001b[39m\"\u001b[39m)\n",
      "\u001b[0;31mNameError\u001b[0m: name 'con' is not defined"
     ]
    }
   ],
   "source": [
    "con.sql(\"select date,count(*) from dummy_p.parquet group by date having MONTH(date) between 1 and 2 \")"
   ]
  },
  {
   "cell_type": "code",
   "execution_count": 13,
   "metadata": {},
   "outputs": [
    {
     "ename": "NameError",
     "evalue": "name 'con' is not defined",
     "output_type": "error",
     "traceback": [
      "\u001b[0;31m---------------------------------------------------------------------------\u001b[0m",
      "\u001b[0;31mNameError\u001b[0m                                 Traceback (most recent call last)",
      "Cell \u001b[0;32mIn[13], line 1\u001b[0m\n\u001b[0;32m----> 1\u001b[0m con\u001b[39m.\u001b[39msql(\u001b[39m\"\u001b[39m\u001b[39mselect date from datamart_zenodo_3749559_e7fe094d_2f11_4814_ac1a_3326902e063c.parquet\u001b[39m\u001b[39m\"\u001b[39m)\u001b[39m.\u001b[39mto_df()\u001b[39m.\u001b[39mto_json(orient\u001b[39m=\u001b[39m\u001b[39m'\u001b[39m\u001b[39mrecords\u001b[39m\u001b[39m'\u001b[39m)\n",
      "\u001b[0;31mNameError\u001b[0m: name 'con' is not defined"
     ]
    }
   ],
   "source": [
    "con.sql(\"select date from datamart_zenodo_3749559_e7fe094d_2f11_4814_ac1a_3326902e063c.parquet\").to_df().to_json(orient='records')"
   ]
  },
  {
   "cell_type": "code",
   "execution_count": 14,
   "metadata": {},
   "outputs": [
    {
     "ename": "NameError",
     "evalue": "name 'con' is not defined",
     "output_type": "error",
     "traceback": [
      "\u001b[0;31m---------------------------------------------------------------------------\u001b[0m",
      "\u001b[0;31mNameError\u001b[0m                                 Traceback (most recent call last)",
      "Cell \u001b[0;32mIn[14], line 1\u001b[0m\n\u001b[0;32m----> 1\u001b[0m x\u001b[39m=\u001b[39mcon\u001b[39m.\u001b[39msql(\u001b[39m\"\u001b[39m\u001b[39mselect date,count(*),month(date) from datamart_zenodo_3749559_e7fe094d_2f11_4814_ac1a_3326902e063c.parquet group by date\u001b[39m\u001b[39m\"\u001b[39m)\n",
      "\u001b[0;31mNameError\u001b[0m: name 'con' is not defined"
     ]
    }
   ],
   "source": [
    "x=con.sql(\"select date,count(*),month(date) from datamart_zenodo_3749559_e7fe094d_2f11_4814_ac1a_3326902e063c.parquet group by date\")"
   ]
  },
  {
   "cell_type": "code",
   "execution_count": 48,
   "metadata": {},
   "outputs": [
    {
     "data": {
      "text/plain": [
       "┌─────────────────────┬──────────────┬─────────────┐\n",
       "│        date         │ count_star() │ month(date) │\n",
       "│      timestamp      │    int64     │    int64    │\n",
       "├─────────────────────┼──────────────┼─────────────┤\n",
       "│ 2020-03-24 00:00:00 │          195 │           3 │\n",
       "│ 2020-03-25 00:00:00 │          199 │           3 │\n",
       "│ 2020-03-26 00:00:00 │          200 │           3 │\n",
       "│ 2020-03-27 00:00:00 │          201 │           3 │\n",
       "│ 2020-03-28 00:00:00 │          201 │           3 │\n",
       "│ 2020-03-29 00:00:00 │          201 │           3 │\n",
       "│ 2020-03-30 00:00:00 │          202 │           3 │\n",
       "│ 2020-03-31 00:00:00 │          204 │           3 │\n",
       "│ 2020-04-01 00:00:00 │          205 │           4 │\n",
       "│ 2020-04-02 00:00:00 │          206 │           4 │\n",
       "│ 2020-04-03 00:00:00 │          207 │           4 │\n",
       "│ 2020-04-04 00:00:00 │          208 │           4 │\n",
       "│ 2020-04-05 00:00:00 │          210 │           4 │\n",
       "│ 2020-04-06 00:00:00 │          211 │           4 │\n",
       "│ 2020-04-07 00:00:00 │          211 │           4 │\n",
       "│ 2020-04-08 00:00:00 │          209 │           4 │\n",
       "│ 2020-04-09 00:00:00 │          209 │           4 │\n",
       "│ 2020-04-10 00:00:00 │          210 │           4 │\n",
       "│ 2020-04-11 00:00:00 │          210 │           4 │\n",
       "│ 2020-04-12 00:00:00 │          210 │           4 │\n",
       "│ NULL                │            1 │        NULL │\n",
       "├─────────────────────┴──────────────┴─────────────┤\n",
       "│ 21 rows                                3 columns │\n",
       "└──────────────────────────────────────────────────┘"
      ]
     },
     "execution_count": 48,
     "metadata": {},
     "output_type": "execute_result"
    }
   ],
   "source": [
    "x"
   ]
  },
  {
   "cell_type": "code",
   "execution_count": 49,
   "metadata": {},
   "outputs": [
    {
     "data": {
      "text/plain": [
       "['TIMESTAMP', 'BIGINT', 'BIGINT']"
      ]
     },
     "execution_count": 49,
     "metadata": {},
     "output_type": "execute_result"
    }
   ],
   "source": [
    "x.dtypes"
   ]
  },
  {
   "cell_type": "code",
   "execution_count": null,
   "metadata": {},
   "outputs": [],
   "source": []
  }
 ],
 "metadata": {
  "kernelspec": {
   "display_name": "gpu",
   "language": "python",
   "name": "python3"
  },
  "language_info": {
   "codemirror_mode": {
    "name": "ipython",
    "version": 3
   },
   "file_extension": ".py",
   "mimetype": "text/x-python",
   "name": "python",
   "nbconvert_exporter": "python",
   "pygments_lexer": "ipython3",
   "version": "3.9.16"
  },
  "orig_nbformat": 4
 },
 "nbformat": 4,
 "nbformat_minor": 2
}
