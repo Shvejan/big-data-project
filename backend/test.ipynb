{
 "cells": [
  {
   "cell_type": "code",
   "execution_count": 1,
   "metadata": {},
   "outputs": [],
   "source": [
    "import requests\n",
    "import pandas as pd\n",
    "import duckdb\n",
    "import json\n",
    "import datamart_profiler\n",
    "import io\n",
    "id=\"datamart.zenodo.3749559.e7fe094d-2f11-4814-ac1a-3326902e063c\"\n",
    "filename=id.replace(\".\",\"_\").replace(\"-\",\"_\")+\".parquet\"\n",
    "resp=requests.get('https://auctus.vida-nyu.org/api/v1/download/'+id)"
   ]
  },
  {
   "cell_type": "code",
   "execution_count": 2,
   "metadata": {},
   "outputs": [
    {
     "data": {
      "text/plain": [
       "21817074.0"
      ]
     },
     "execution_count": 2,
     "metadata": {},
     "output_type": "execute_result"
    }
   ],
   "source": [
    "df = pd.read_csv(io.BytesIO(resp.content))\n",
    "df['total_cases'].sum()"
   ]
  },
  {
   "cell_type": "code",
   "execution_count": 3,
   "metadata": {},
   "outputs": [],
   "source": [
    "# data=resp.content.decode()\n",
    "# list=[x.split(',') for x in data.split('\\n')]\n",
    "# print(list[1])\n",
    "# df=pd.DataFrame(list[1:],columns=list[0])\n"
   ]
  },
  {
   "cell_type": "code",
   "execution_count": 4,
   "metadata": {},
   "outputs": [
    {
     "data": {
      "text/plain": [
       "Index(['country', 'date', 'total_cases', 'new_cases', 'total_deaths',\n",
       "       'new_deaths', 'total_recovered', 'active_cases', 'servious_critical',\n",
       "       'total_cases_1M_pop', 'total_deaths_1M_pop', 'total_tests',\n",
       "       'tests_1M_pop'],\n",
       "      dtype='object')"
      ]
     },
     "execution_count": 4,
     "metadata": {},
     "output_type": "execute_result"
    }
   ],
   "source": [
    "df.columns"
   ]
  },
  {
   "cell_type": "code",
   "execution_count": 5,
   "metadata": {},
   "outputs": [
    {
     "name": "stderr",
     "output_type": "stream",
     "text": [
      "/home/aromston/software/anaconda3/envs/auctus/lib/python3.9/site-packages/sklearn/cluster/_kmeans.py:870: FutureWarning: The default value of `n_init` will change from 10 to 'auto' in 1.4. Set the value of `n_init` explicitly to suppress the warning\n",
      "  warnings.warn(\n",
      "/home/aromston/software/anaconda3/envs/auctus/lib/python3.9/site-packages/sklearn/cluster/_kmeans.py:870: FutureWarning: The default value of `n_init` will change from 10 to 'auto' in 1.4. Set the value of `n_init` explicitly to suppress the warning\n",
      "  warnings.warn(\n",
      "/home/aromston/software/anaconda3/envs/auctus/lib/python3.9/site-packages/sklearn/cluster/_kmeans.py:870: FutureWarning: The default value of `n_init` will change from 10 to 'auto' in 1.4. Set the value of `n_init` explicitly to suppress the warning\n",
      "  warnings.warn(\n",
      "/home/aromston/software/anaconda3/envs/auctus/lib/python3.9/site-packages/sklearn/cluster/_kmeans.py:870: FutureWarning: The default value of `n_init` will change from 10 to 'auto' in 1.4. Set the value of `n_init` explicitly to suppress the warning\n",
      "  warnings.warn(\n",
      "/home/aromston/software/anaconda3/envs/auctus/lib/python3.9/site-packages/sklearn/cluster/_kmeans.py:870: FutureWarning: The default value of `n_init` will change from 10 to 'auto' in 1.4. Set the value of `n_init` explicitly to suppress the warning\n",
      "  warnings.warn(\n",
      "/home/aromston/software/anaconda3/envs/auctus/lib/python3.9/site-packages/sklearn/cluster/_kmeans.py:870: FutureWarning: The default value of `n_init` will change from 10 to 'auto' in 1.4. Set the value of `n_init` explicitly to suppress the warning\n",
      "  warnings.warn(\n",
      "/home/aromston/software/anaconda3/envs/auctus/lib/python3.9/site-packages/sklearn/cluster/_kmeans.py:870: FutureWarning: The default value of `n_init` will change from 10 to 'auto' in 1.4. Set the value of `n_init` explicitly to suppress the warning\n",
      "  warnings.warn(\n",
      "/home/aromston/software/anaconda3/envs/auctus/lib/python3.9/site-packages/sklearn/cluster/_kmeans.py:870: FutureWarning: The default value of `n_init` will change from 10 to 'auto' in 1.4. Set the value of `n_init` explicitly to suppress the warning\n",
      "  warnings.warn(\n",
      "/home/aromston/software/anaconda3/envs/auctus/lib/python3.9/site-packages/sklearn/cluster/_kmeans.py:870: FutureWarning: The default value of `n_init` will change from 10 to 'auto' in 1.4. Set the value of `n_init` explicitly to suppress the warning\n",
      "  warnings.warn(\n",
      "/home/aromston/software/anaconda3/envs/auctus/lib/python3.9/site-packages/sklearn/cluster/_kmeans.py:870: FutureWarning: The default value of `n_init` will change from 10 to 'auto' in 1.4. Set the value of `n_init` explicitly to suppress the warning\n",
      "  warnings.warn(\n",
      "/home/aromston/software/anaconda3/envs/auctus/lib/python3.9/site-packages/sklearn/cluster/_kmeans.py:870: FutureWarning: The default value of `n_init` will change from 10 to 'auto' in 1.4. Set the value of `n_init` explicitly to suppress the warning\n",
      "  warnings.warn(\n",
      "/home/aromston/software/anaconda3/envs/auctus/lib/python3.9/site-packages/sklearn/cluster/_kmeans.py:870: FutureWarning: The default value of `n_init` will change from 10 to 'auto' in 1.4. Set the value of `n_init` explicitly to suppress the warning\n",
      "  warnings.warn(\n"
     ]
    },
    {
     "name": "stdout",
     "output_type": "stream",
     "text": [
      "country ['Text', 'Enumeration']\n",
      "date ['Text', 'Enumeration', 'DateTime']\n",
      "total_cases ['Integer']\n",
      "new_cases ['Integer']\n",
      "total_deaths ['Integer']\n",
      "new_deaths ['Integer']\n",
      "total_recovered ['Integer']\n",
      "active_cases ['Integer']\n",
      "servious_critical ['Integer']\n",
      "total_cases_1M_pop ['Float']\n",
      "total_deaths_1M_pop ['Float']\n",
      "total_tests ['Integer']\n",
      "tests_1M_pop ['Integer']\n"
     ]
    }
   ],
   "source": [
    "profiles=datamart_profiler.process_dataset(df)\n",
    "for c in profiles['columns']:\n",
    "    dtypes=[]\n",
    "    dtypes.append(c['structural_type'].split('/')[-1])\n",
    "    for s in c['semantic_types']:\n",
    "        dtypes.append(s.split('/')[-1])\n",
    "    print(c['name'],dtypes)"
   ]
  },
  {
   "cell_type": "code",
   "execution_count": 6,
   "metadata": {},
   "outputs": [],
   "source": [
    "df.to_parquet(filename)\n",
    "df.to_csv('test_file.csv')  "
   ]
  },
  {
   "cell_type": "code",
   "execution_count": 7,
   "metadata": {},
   "outputs": [
    {
     "data": {
      "text/html": [
       "<div>\n",
       "<style scoped>\n",
       "    .dataframe tbody tr th:only-of-type {\n",
       "        vertical-align: middle;\n",
       "    }\n",
       "\n",
       "    .dataframe tbody tr th {\n",
       "        vertical-align: top;\n",
       "    }\n",
       "\n",
       "    .dataframe thead th {\n",
       "        text-align: right;\n",
       "    }\n",
       "</style>\n",
       "<table border=\"1\" class=\"dataframe\">\n",
       "  <thead>\n",
       "    <tr style=\"text-align: right;\">\n",
       "      <th></th>\n",
       "      <th>column_name</th>\n",
       "      <th>column_type</th>\n",
       "      <th>null</th>\n",
       "      <th>key</th>\n",
       "      <th>default</th>\n",
       "      <th>extra</th>\n",
       "    </tr>\n",
       "  </thead>\n",
       "  <tbody>\n",
       "    <tr>\n",
       "      <th>0</th>\n",
       "      <td>country</td>\n",
       "      <td>VARCHAR</td>\n",
       "      <td>YES</td>\n",
       "      <td>NaN</td>\n",
       "      <td>NaN</td>\n",
       "      <td>NaN</td>\n",
       "    </tr>\n",
       "    <tr>\n",
       "      <th>1</th>\n",
       "      <td>date</td>\n",
       "      <td>VARCHAR</td>\n",
       "      <td>YES</td>\n",
       "      <td>NaN</td>\n",
       "      <td>NaN</td>\n",
       "      <td>NaN</td>\n",
       "    </tr>\n",
       "    <tr>\n",
       "      <th>2</th>\n",
       "      <td>total_cases</td>\n",
       "      <td>DOUBLE</td>\n",
       "      <td>YES</td>\n",
       "      <td>NaN</td>\n",
       "      <td>NaN</td>\n",
       "      <td>NaN</td>\n",
       "    </tr>\n",
       "    <tr>\n",
       "      <th>3</th>\n",
       "      <td>new_cases</td>\n",
       "      <td>DOUBLE</td>\n",
       "      <td>YES</td>\n",
       "      <td>NaN</td>\n",
       "      <td>NaN</td>\n",
       "      <td>NaN</td>\n",
       "    </tr>\n",
       "    <tr>\n",
       "      <th>4</th>\n",
       "      <td>total_deaths</td>\n",
       "      <td>DOUBLE</td>\n",
       "      <td>YES</td>\n",
       "      <td>NaN</td>\n",
       "      <td>NaN</td>\n",
       "      <td>NaN</td>\n",
       "    </tr>\n",
       "    <tr>\n",
       "      <th>5</th>\n",
       "      <td>new_deaths</td>\n",
       "      <td>DOUBLE</td>\n",
       "      <td>YES</td>\n",
       "      <td>NaN</td>\n",
       "      <td>NaN</td>\n",
       "      <td>NaN</td>\n",
       "    </tr>\n",
       "    <tr>\n",
       "      <th>6</th>\n",
       "      <td>total_recovered</td>\n",
       "      <td>DOUBLE</td>\n",
       "      <td>YES</td>\n",
       "      <td>NaN</td>\n",
       "      <td>NaN</td>\n",
       "      <td>NaN</td>\n",
       "    </tr>\n",
       "    <tr>\n",
       "      <th>7</th>\n",
       "      <td>active_cases</td>\n",
       "      <td>DOUBLE</td>\n",
       "      <td>YES</td>\n",
       "      <td>NaN</td>\n",
       "      <td>NaN</td>\n",
       "      <td>NaN</td>\n",
       "    </tr>\n",
       "    <tr>\n",
       "      <th>8</th>\n",
       "      <td>servious_critical</td>\n",
       "      <td>DOUBLE</td>\n",
       "      <td>YES</td>\n",
       "      <td>NaN</td>\n",
       "      <td>NaN</td>\n",
       "      <td>NaN</td>\n",
       "    </tr>\n",
       "    <tr>\n",
       "      <th>9</th>\n",
       "      <td>total_cases_1M_pop</td>\n",
       "      <td>DOUBLE</td>\n",
       "      <td>YES</td>\n",
       "      <td>NaN</td>\n",
       "      <td>NaN</td>\n",
       "      <td>NaN</td>\n",
       "    </tr>\n",
       "    <tr>\n",
       "      <th>10</th>\n",
       "      <td>total_deaths_1M_pop</td>\n",
       "      <td>DOUBLE</td>\n",
       "      <td>YES</td>\n",
       "      <td>NaN</td>\n",
       "      <td>NaN</td>\n",
       "      <td>NaN</td>\n",
       "    </tr>\n",
       "    <tr>\n",
       "      <th>11</th>\n",
       "      <td>total_tests</td>\n",
       "      <td>DOUBLE</td>\n",
       "      <td>YES</td>\n",
       "      <td>NaN</td>\n",
       "      <td>NaN</td>\n",
       "      <td>NaN</td>\n",
       "    </tr>\n",
       "    <tr>\n",
       "      <th>12</th>\n",
       "      <td>tests_1M_pop</td>\n",
       "      <td>DOUBLE</td>\n",
       "      <td>YES</td>\n",
       "      <td>NaN</td>\n",
       "      <td>NaN</td>\n",
       "      <td>NaN</td>\n",
       "    </tr>\n",
       "  </tbody>\n",
       "</table>\n",
       "</div>"
      ],
      "text/plain": [
       "            column_name column_type null  key default extra\n",
       "0               country     VARCHAR  YES  NaN     NaN   NaN\n",
       "1                  date     VARCHAR  YES  NaN     NaN   NaN\n",
       "2           total_cases      DOUBLE  YES  NaN     NaN   NaN\n",
       "3             new_cases      DOUBLE  YES  NaN     NaN   NaN\n",
       "4          total_deaths      DOUBLE  YES  NaN     NaN   NaN\n",
       "5            new_deaths      DOUBLE  YES  NaN     NaN   NaN\n",
       "6       total_recovered      DOUBLE  YES  NaN     NaN   NaN\n",
       "7          active_cases      DOUBLE  YES  NaN     NaN   NaN\n",
       "8     servious_critical      DOUBLE  YES  NaN     NaN   NaN\n",
       "9    total_cases_1M_pop      DOUBLE  YES  NaN     NaN   NaN\n",
       "10  total_deaths_1M_pop      DOUBLE  YES  NaN     NaN   NaN\n",
       "11          total_tests      DOUBLE  YES  NaN     NaN   NaN\n",
       "12         tests_1M_pop      DOUBLE  YES  NaN     NaN   NaN"
      ]
     },
     "execution_count": 7,
     "metadata": {},
     "output_type": "execute_result"
    }
   ],
   "source": [
    "con=duckdb.connect(\"testdb.db\")\n",
    "con.sql(\" describe select * from \"+filename).fetchdf()"
   ]
  },
  {
   "cell_type": "code",
   "execution_count": 8,
   "metadata": {},
   "outputs": [
    {
     "name": "stderr",
     "output_type": "stream",
     "text": [
      "/home/aromston/software/anaconda3/envs/auctus/lib/python3.9/site-packages/sklearn/cluster/_kmeans.py:870: FutureWarning: The default value of `n_init` will change from 10 to 'auto' in 1.4. Set the value of `n_init` explicitly to suppress the warning\n",
      "  warnings.warn(\n",
      "/home/aromston/software/anaconda3/envs/auctus/lib/python3.9/site-packages/sklearn/cluster/_kmeans.py:870: FutureWarning: The default value of `n_init` will change from 10 to 'auto' in 1.4. Set the value of `n_init` explicitly to suppress the warning\n",
      "  warnings.warn(\n",
      "/home/aromston/software/anaconda3/envs/auctus/lib/python3.9/site-packages/sklearn/cluster/_kmeans.py:870: FutureWarning: The default value of `n_init` will change from 10 to 'auto' in 1.4. Set the value of `n_init` explicitly to suppress the warning\n",
      "  warnings.warn(\n",
      "/home/aromston/software/anaconda3/envs/auctus/lib/python3.9/site-packages/sklearn/cluster/_kmeans.py:870: FutureWarning: The default value of `n_init` will change from 10 to 'auto' in 1.4. Set the value of `n_init` explicitly to suppress the warning\n",
      "  warnings.warn(\n",
      "/home/aromston/software/anaconda3/envs/auctus/lib/python3.9/site-packages/sklearn/cluster/_kmeans.py:870: FutureWarning: The default value of `n_init` will change from 10 to 'auto' in 1.4. Set the value of `n_init` explicitly to suppress the warning\n",
      "  warnings.warn(\n",
      "/home/aromston/software/anaconda3/envs/auctus/lib/python3.9/site-packages/sklearn/cluster/_kmeans.py:870: FutureWarning: The default value of `n_init` will change from 10 to 'auto' in 1.4. Set the value of `n_init` explicitly to suppress the warning\n",
      "  warnings.warn(\n",
      "/home/aromston/software/anaconda3/envs/auctus/lib/python3.9/site-packages/sklearn/cluster/_kmeans.py:870: FutureWarning: The default value of `n_init` will change from 10 to 'auto' in 1.4. Set the value of `n_init` explicitly to suppress the warning\n",
      "  warnings.warn(\n",
      "/home/aromston/software/anaconda3/envs/auctus/lib/python3.9/site-packages/sklearn/cluster/_kmeans.py:870: FutureWarning: The default value of `n_init` will change from 10 to 'auto' in 1.4. Set the value of `n_init` explicitly to suppress the warning\n",
      "  warnings.warn(\n",
      "/home/aromston/software/anaconda3/envs/auctus/lib/python3.9/site-packages/sklearn/cluster/_kmeans.py:870: FutureWarning: The default value of `n_init` will change from 10 to 'auto' in 1.4. Set the value of `n_init` explicitly to suppress the warning\n",
      "  warnings.warn(\n",
      "/home/aromston/software/anaconda3/envs/auctus/lib/python3.9/site-packages/sklearn/cluster/_kmeans.py:870: FutureWarning: The default value of `n_init` will change from 10 to 'auto' in 1.4. Set the value of `n_init` explicitly to suppress the warning\n",
      "  warnings.warn(\n",
      "/home/aromston/software/anaconda3/envs/auctus/lib/python3.9/site-packages/sklearn/cluster/_kmeans.py:870: FutureWarning: The default value of `n_init` will change from 10 to 'auto' in 1.4. Set the value of `n_init` explicitly to suppress the warning\n",
      "  warnings.warn(\n"
     ]
    },
    {
     "name": "stdout",
     "output_type": "stream",
     "text": [
      "converting to int\n",
      "converting to int\n",
      "converting to int\n",
      "converting to int\n",
      "converting to int\n",
      "converting to int\n",
      "converting to int\n",
      "converting to float\n",
      "converting to float\n",
      "converting to int\n",
      "converting to int\n"
     ]
    },
    {
     "name": "stderr",
     "output_type": "stream",
     "text": [
      "/home/aromston/software/anaconda3/envs/auctus/lib/python3.9/site-packages/sklearn/cluster/_kmeans.py:870: FutureWarning: The default value of `n_init` will change from 10 to 'auto' in 1.4. Set the value of `n_init` explicitly to suppress the warning\n",
      "  warnings.warn(\n"
     ]
    }
   ],
   "source": [
    "df_cpy=df.copy()\n",
    "df_cpy\n",
    "profiles=datamart_profiler.process_dataset(df_cpy)\n",
    "for c in profiles['columns']:\n",
    "    dtypes=[]\n",
    "    dtypes.append(c['structural_type'].split('/')[-1])\n",
    "    for s in c['semantic_types']:\n",
    "        dtypes.append(s.split('/')[-1])\n",
    "    try:\n",
    "        if \"DateTime\" in dtypes:\n",
    "            df_cpy[c['name']] = pd.to_datetime(df_cpy[c['name']], format='%Y-%m-%d')\n",
    "        elif \"Integer\" in dtypes:\n",
    "            print(\"converting to int\")\n",
    "            df_cpy[c['name']]=df_cpy[c['name']].astype(int)\n",
    "        elif \"Float\" in dtypes:\n",
    "            print(\"converting to float\")\n",
    "            df_cpy[c['name']]=df_cpy[c['name']].astype(float)\n",
    "        elif \"Text\" in dtypes:\n",
    "            df_cpy[c['name']]=df_cpy[c['name']].fillna(\"null\").astype(str)\n",
    "    except:\n",
    "        pass\n"
   ]
  },
  {
   "cell_type": "code",
   "execution_count": 110,
   "metadata": {},
   "outputs": [
    {
     "data": {
      "text/plain": [
       "country                        object\n",
       "date                   datetime64[ns]\n",
       "total_cases                     int64\n",
       "new_cases                       int64\n",
       "total_deaths                    int64\n",
       "new_deaths                      int64\n",
       "total_recovered                 int64\n",
       "active_cases                    int64\n",
       "servious_critical               int64\n",
       "total_cases_1M_pop            float64\n",
       "total_deaths_1M_pop           float64\n",
       "total_tests                     int64\n",
       "tests_1M_pop                    int64\n",
       "dtype: object"
      ]
     },
     "execution_count": 110,
     "metadata": {},
     "output_type": "execute_result"
    }
   ],
   "source": [
    "df_cpy.dtypes"
   ]
  },
  {
   "cell_type": "code",
   "execution_count": 111,
   "metadata": {},
   "outputs": [
    {
     "data": {
      "text/plain": [
       "country                 object\n",
       "date                    object\n",
       "total_cases            float64\n",
       "new_cases              float64\n",
       "total_deaths           float64\n",
       "new_deaths             float64\n",
       "total_recovered        float64\n",
       "active_cases           float64\n",
       "servious_critical      float64\n",
       "total_cases_1M_pop     float64\n",
       "total_deaths_1M_pop    float64\n",
       "total_tests            float64\n",
       "tests_1M_pop           float64\n",
       "dtype: object"
      ]
     },
     "execution_count": 111,
     "metadata": {},
     "output_type": "execute_result"
    }
   ],
   "source": [
    "df.dtypes"
   ]
  },
  {
   "cell_type": "code",
   "execution_count": 112,
   "metadata": {},
   "outputs": [
    {
     "name": "stdout",
     "output_type": "stream",
     "text": [
      "9831991\n",
      "9831992.0\n"
     ]
    }
   ],
   "source": [
    "col='tests_1M_pop'\n",
    "df_cpy[col].sum()==df[col].sum()\n",
    "print(df_cpy[col].sum())\n",
    "print(df[col].sum())"
   ]
  },
  {
   "cell_type": "code",
   "execution_count": 117,
   "metadata": {},
   "outputs": [
    {
     "data": {
      "text/plain": [
       "' ALTER TABLE datamart_zenodo_3749559_e7fe094d_2f11_4814_ac1a_3326902e063c.parquet ALTER total_cases TYPE VARCHAR;'"
      ]
     },
     "execution_count": 117,
     "metadata": {},
     "output_type": "execute_result"
    }
   ],
   "source": [
    "\" ALTER TABLE \"+filename+\" ALTER total_cases TYPE VARCHAR;\""
   ]
  },
  {
   "cell_type": "code",
   "execution_count": 128,
   "metadata": {},
   "outputs": [],
   "source": [
    "con.sql(\"drop table test\")\n"
   ]
  },
  {
   "cell_type": "code",
   "execution_count": 129,
   "metadata": {},
   "outputs": [
    {
     "ename": "CatalogException",
     "evalue": "Catalog Error: Table with name test does not exist!\nDid you mean \"information_schema.tables\"?",
     "output_type": "error",
     "traceback": [
      "\u001b[0;31m---------------------------------------------------------------------------\u001b[0m",
      "\u001b[0;31mCatalogException\u001b[0m                          Traceback (most recent call last)",
      "Cell \u001b[0;32mIn[129], line 1\u001b[0m\n\u001b[0;32m----> 1\u001b[0m con\u001b[39m.\u001b[39;49msql(\u001b[39m\"\u001b[39;49m\u001b[39mdrop table test\u001b[39;49m\u001b[39m\"\u001b[39;49m)\n\u001b[1;32m      2\u001b[0m con\u001b[39m.\u001b[39msql(\u001b[39m\"\u001b[39m\u001b[39mCREATE TABLE test AS SELECT * FROM \u001b[39m\u001b[39m\"\u001b[39m\u001b[39m+\u001b[39mfilename)\n\u001b[1;32m      3\u001b[0m con\u001b[39m.\u001b[39msql(\u001b[39m\"\u001b[39m\u001b[39mALTER TABLE test ALTER total_cases TYPE VARCHAR;\u001b[39m\u001b[39m\"\u001b[39m)\n",
      "\u001b[0;31mCatalogException\u001b[0m: Catalog Error: Table with name test does not exist!\nDid you mean \"information_schema.tables\"?"
     ]
    }
   ],
   "source": [
    "con.sql(\"drop table test\")\n",
    "con.sql(\"CREATE TABLE test AS SELECT * FROM \"+filename)\n",
    "con.sql(\"ALTER TABLE test ALTER total_cases TYPE VARCHAR;\")\n",
    "con.sql(\"COPY test TO 'my_table.parquet' (FORMAT 'parquet');\")\n",
    "con.sql(\"select * from read_parquet('my_table.parquet')\")"
   ]
  },
  {
   "cell_type": "code",
   "execution_count": null,
   "metadata": {},
   "outputs": [],
   "source": [
    "\n",
    "datamart.socrata.data-virginia-gov.4n9k-sf8f\n",
    "\n",
    "update DATASET set date= (select CAST(STRPTIME(date,'%m/%d/%Y %I:%M:%S %p') as TIMESTAMP) as date from DATASET); alter table DATASET alter date type timestamp;"
   ]
  }
 ],
 "metadata": {
  "kernelspec": {
   "display_name": "gpu",
   "language": "python",
   "name": "python3"
  },
  "language_info": {
   "codemirror_mode": {
    "name": "ipython",
    "version": 3
   },
   "file_extension": ".py",
   "mimetype": "text/x-python",
   "name": "python",
   "nbconvert_exporter": "python",
   "pygments_lexer": "ipython3",
   "version": "3.9.16"
  },
  "orig_nbformat": 4
 },
 "nbformat": 4,
 "nbformat_minor": 2
}
