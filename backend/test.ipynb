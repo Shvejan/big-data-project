{
 "cells": [
  {
   "cell_type": "code",
   "execution_count": 99,
   "metadata": {},
   "outputs": [],
   "source": [
    "import requests\n",
    "import pandas as pd\n",
    "import duckdb\n",
    "import json\n",
    "import datamart_profiler\n",
    "id=\"datamart.zenodo.3749559.e7fe094d-2f11-4814-ac1a-3326902e063c\"\n",
    "filename=id.replace(\".\",\"_\").replace(\"-\",\"_\")+\".parquet\"\n",
    "resp=requests.get('https://auctus.vida-nyu.org/api/v1/download/'+id)"
   ]
  },
  {
   "cell_type": "code",
   "execution_count": 100,
   "metadata": {},
   "outputs": [],
   "source": [
    "data=resp.content.decode()\n",
    "list=[x.split(',') for x in data.split('\\n')]\n",
    "\n",
    "df=pd.DataFrame(list[1:],columns=list[0])\n"
   ]
  },
  {
   "cell_type": "code",
   "execution_count": 101,
   "metadata": {},
   "outputs": [
    {
     "name": "stderr",
     "output_type": "stream",
     "text": [
      "/home/aromston/software/anaconda3/envs/spark/lib/python3.9/site-packages/sklearn/cluster/_kmeans.py:870: FutureWarning: The default value of `n_init` will change from 10 to 'auto' in 1.4. Set the value of `n_init` explicitly to suppress the warning\n",
      "  warnings.warn(\n",
      "/home/aromston/software/anaconda3/envs/spark/lib/python3.9/site-packages/sklearn/cluster/_kmeans.py:870: FutureWarning: The default value of `n_init` will change from 10 to 'auto' in 1.4. Set the value of `n_init` explicitly to suppress the warning\n",
      "  warnings.warn(\n",
      "/home/aromston/software/anaconda3/envs/spark/lib/python3.9/site-packages/sklearn/cluster/_kmeans.py:870: FutureWarning: The default value of `n_init` will change from 10 to 'auto' in 1.4. Set the value of `n_init` explicitly to suppress the warning\n",
      "  warnings.warn(\n",
      "/home/aromston/software/anaconda3/envs/spark/lib/python3.9/site-packages/sklearn/cluster/_kmeans.py:870: FutureWarning: The default value of `n_init` will change from 10 to 'auto' in 1.4. Set the value of `n_init` explicitly to suppress the warning\n",
      "  warnings.warn(\n",
      "/home/aromston/software/anaconda3/envs/spark/lib/python3.9/site-packages/sklearn/cluster/_kmeans.py:870: FutureWarning: The default value of `n_init` will change from 10 to 'auto' in 1.4. Set the value of `n_init` explicitly to suppress the warning\n",
      "  warnings.warn(\n",
      "/home/aromston/software/anaconda3/envs/spark/lib/python3.9/site-packages/sklearn/cluster/_kmeans.py:870: FutureWarning: The default value of `n_init` will change from 10 to 'auto' in 1.4. Set the value of `n_init` explicitly to suppress the warning\n",
      "  warnings.warn(\n",
      "/home/aromston/software/anaconda3/envs/spark/lib/python3.9/site-packages/sklearn/cluster/_kmeans.py:870: FutureWarning: The default value of `n_init` will change from 10 to 'auto' in 1.4. Set the value of `n_init` explicitly to suppress the warning\n",
      "  warnings.warn(\n",
      "/home/aromston/software/anaconda3/envs/spark/lib/python3.9/site-packages/sklearn/cluster/_kmeans.py:870: FutureWarning: The default value of `n_init` will change from 10 to 'auto' in 1.4. Set the value of `n_init` explicitly to suppress the warning\n",
      "  warnings.warn(\n",
      "/home/aromston/software/anaconda3/envs/spark/lib/python3.9/site-packages/sklearn/cluster/_kmeans.py:870: FutureWarning: The default value of `n_init` will change from 10 to 'auto' in 1.4. Set the value of `n_init` explicitly to suppress the warning\n",
      "  warnings.warn(\n",
      "/home/aromston/software/anaconda3/envs/spark/lib/python3.9/site-packages/sklearn/cluster/_kmeans.py:870: FutureWarning: The default value of `n_init` will change from 10 to 'auto' in 1.4. Set the value of `n_init` explicitly to suppress the warning\n",
      "  warnings.warn(\n"
     ]
    },
    {
     "name": "stdout",
     "output_type": "stream",
     "text": [
      "country http://schema.org/Text\n",
      "date http://schema.org/Text\n",
      "total_cases http://schema.org/Integer\n",
      "new_cases http://schema.org/Integer\n",
      "total_deaths http://schema.org/Integer\n",
      "new_deaths http://schema.org/Integer\n",
      "total_recovered http://schema.org/Integer\n",
      "active_cases http://schema.org/Integer\n",
      "servious_critical http://schema.org/Integer\n",
      "total_cases_1M_pop http://schema.org/Float\n",
      "total_deaths_1M_pop http://schema.org/Float\n",
      "total_tests http://schema.org/Integer\n",
      " http://schema.org/Text\n"
     ]
    },
    {
     "name": "stderr",
     "output_type": "stream",
     "text": [
      "/home/aromston/software/anaconda3/envs/spark/lib/python3.9/site-packages/sklearn/cluster/_kmeans.py:870: FutureWarning: The default value of `n_init` will change from 10 to 'auto' in 1.4. Set the value of `n_init` explicitly to suppress the warning\n",
      "  warnings.warn(\n"
     ]
    }
   ],
   "source": [
    "profiles=datamart_profiler.process_dataset(df)\n",
    "for c in profiles['columns']:\n",
    "    print(c['name'],c['structural_type'])"
   ]
  },
  {
   "cell_type": "code",
   "execution_count": 68,
   "metadata": {},
   "outputs": [],
   "source": [
    "df.to_parquet(filename)\n",
    "df.to_csv('test_file.csv')"
   ]
  },
  {
   "cell_type": "code",
   "execution_count": 69,
   "metadata": {},
   "outputs": [
    {
     "data": {
      "text/plain": [
       "┌─────────┬─────────────┬───────────┬──────────────┬───┬────────────────┬──────────────┬─────────┬─────────┐\n",
       "│ Country │ Total cases │ New cases │ Total deaths │ … │ Critical cases │ Cases/1M pop │   Lon   │   Lat\n",
       "   │\n",
       "│ varchar │   varchar   │  varchar  │   varchar    │   │    varchar     │   varchar    │ varchar │ varchar │\n",
       "├──────────────────────────────────────────────────────────────────────────────────────────────────────────┤\n",
       "│                                                  0 rows                                                  │\n",
       "└──────────────────────────────────────────────────────────────────────────────────────────────────────────┘"
      ]
     },
     "execution_count": 69,
     "metadata": {},
     "output_type": "execute_result"
    }
   ],
   "source": [
    "con=duckdb.connect(\"testdb.db\")\n",
    "res=con.sql(\" describe select * from \"+filename).fetchdf()\n",
    "con.sql(\"select * from \"+filename+\" where 'Total cases'='81054.0'\")"
   ]
  },
  {
   "cell_type": "code",
   "execution_count": 70,
   "metadata": {},
   "outputs": [
    {
     "name": "stderr",
     "output_type": "stream",
     "text": [
      "/home/aromston/software/anaconda3/envs/spark/lib/python3.9/site-packages/sklearn/cluster/_kmeans.py:870: FutureWarning: The default value of `n_init` will change from 10 to 'auto' in 1.4. Set the value of `n_init` explicitly to suppress the warning\n",
      "  warnings.warn(\n",
      "/home/aromston/software/anaconda3/envs/spark/lib/python3.9/site-packages/sklearn/cluster/_kmeans.py:870: FutureWarning: The default value of `n_init` will change from 10 to 'auto' in 1.4. Set the value of `n_init` explicitly to suppress the warning\n",
      "  warnings.warn(\n",
      "/home/aromston/software/anaconda3/envs/spark/lib/python3.9/site-packages/sklearn/cluster/_kmeans.py:870: FutureWarning: The default value of `n_init` will change from 10 to 'auto' in 1.4. Set the value of `n_init` explicitly to suppress the warning\n",
      "  warnings.warn(\n",
      "/home/aromston/software/anaconda3/envs/spark/lib/python3.9/site-packages/sklearn/cluster/_kmeans.py:870: FutureWarning: The default value of `n_init` will change from 10 to 'auto' in 1.4. Set the value of `n_init` explicitly to suppress the warning\n",
      "  warnings.warn(\n",
      "Unmatched longitude columns: ['Lon']\n"
     ]
    }
   ],
   "source": [
    "df_cpy=df.copy()\n",
    "df_cpy\n",
    "profiles=datamart_profiler.process_dataset(df_cpy)\n",
    "for c in profiles['columns']:\n",
    "    # print(c['name'],c['structural_type'])\n",
    "    if \"Integer\" in c['structural_type']:\n",
    "        df_cpy[c['name']]=df_cpy[c['name']].fillna(0).astype(float).astype(int)\n",
    "    elif \"Float\" in c['structural_type']:\n",
    "        df_cpy[c['name']]=df_cpy[c['name']].fillna(0).astype(float)\n",
    "    elif \"Text\" in c['structural_type']:\n",
    "        df_cpy[c['name']]=df_cpy[c['name']].fillna(\"null\").astype(str)\n"
   ]
  },
  {
   "cell_type": "code",
   "execution_count": 71,
   "metadata": {},
   "outputs": [
    {
     "data": {
      "text/plain": [
       "Country             object\n",
       "Total cases          int64\n",
       "New cases           object\n",
       "Total deaths        object\n",
       "New deaths          object\n",
       "Total recovered     object\n",
       "Active cases         int64\n",
       "Critical cases      object\n",
       "Cases/1M pop       float64\n",
       "Lon                float64\n",
       "Lat\\r               object\n",
       "dtype: object"
      ]
     },
     "execution_count": 71,
     "metadata": {},
     "output_type": "execute_result"
    }
   ],
   "source": [
    "df_cpy.dtypes"
   ]
  },
  {
   "cell_type": "code",
   "execution_count": 74,
   "metadata": {},
   "outputs": [],
   "source": [
    "df_cpy.to_parquet(\"dummy_p.parquet\")"
   ]
  },
  {
   "cell_type": "code",
   "execution_count": 85,
   "metadata": {},
   "outputs": [
    {
     "data": {
      "text/plain": [
       "┌───────────────────────┬─────────────┬─────────┬─────────┬─────────┬─────────┐\n",
       "│      column_name      │ column_type │  null   │   key   │ default │  extra  │\n",
       "│        varchar        │   varchar   │ varchar │ varchar │ varchar │ varchar │\n",
       "├───────────────────────┼─────────────┼─────────┼─────────┼─────────┼─────────┤\n",
       "│ VendorID              │ BIGINT      │ YES     │ NULL    │ NULL    │ NULL    │\n",
       "│ tpep_pickup_datetime  │ TIMESTAMP   │ YES     │ NULL    │ NULL    │ NULL    │\n",
       "│ tpep_dropoff_datetime │ TIMESTAMP   │ YES     │ NULL    │ NULL    │ NULL    │\n",
       "│ passenger_count       │ DOUBLE      │ YES     │ NULL    │ NULL    │ NULL    │\n",
       "│ trip_distance         │ DOUBLE      │ YES     │ NULL    │ NULL    │ NULL    │\n",
       "│ RatecodeID            │ DOUBLE      │ YES     │ NULL    │ NULL    │ NULL    │\n",
       "│ store_and_fwd_flag    │ VARCHAR     │ YES     │ NULL    │ NULL    │ NULL    │\n",
       "│ PULocationID          │ BIGINT      │ YES     │ NULL    │ NULL    │ NULL    │\n",
       "│ DOLocationID          │ BIGINT      │ YES     │ NULL    │ NULL    │ NULL    │\n",
       "│ payment_type          │ BIGINT      │ YES     │ NULL    │ NULL    │ NULL    │\n",
       "│ fare_amount           │ DOUBLE      │ YES     │ NULL    │ NULL    │ NULL    │\n",
       "│ extra                 │ DOUBLE      │ YES     │ NULL    │ NULL    │ NULL    │\n",
       "│ mta_tax               │ DOUBLE      │ YES     │ NULL    │ NULL    │ NULL    │\n",
       "│ tip_amount            │ DOUBLE      │ YES     │ NULL    │ NULL    │ NULL    │\n",
       "│ tolls_amount          │ DOUBLE      │ YES     │ NULL    │ NULL    │ NULL    │\n",
       "│ improvement_surcharge │ DOUBLE      │ YES     │ NULL    │ NULL    │ NULL    │\n",
       "│ total_amount          │ DOUBLE      │ YES     │ NULL    │ NULL    │ NULL    │\n",
       "│ congestion_surcharge  │ DOUBLE      │ YES     │ NULL    │ NULL    │ NULL    │\n",
       "│ airport_fee           │ DOUBLE      │ YES     │ NULL    │ NULL    │ NULL    │\n",
       "├───────────────────────┴─────────────┴─────────┴─────────┴─────────┴─────────┤\n",
       "│ 19 rows                                                           6 columns │\n",
       "└─────────────────────────────────────────────────────────────────────────────┘"
      ]
     },
     "execution_count": 85,
     "metadata": {},
     "output_type": "execute_result"
    }
   ],
   "source": [
    "con.sql(\" describe select * from yellow.parquet \")"
   ]
  },
  {
   "cell_type": "code",
   "execution_count": 98,
   "metadata": {},
   "outputs": [
    {
     "data": {
      "text/plain": [
       "┌──────────────────────┬─────────────┬───────────┬───┬──────────────┬───────────────────┬────────────────────┐\n",
       "│       Country        │ Total cases │ New cases │ … │ Cases/1M pop │        Lon        │        Lat\n",
       "         │\n",
       "│       varchar        │    int64    │  varchar  │   │    double    │      double       │      varchar       │\n",
       "├──────────────────────┼─────────────┼───────────┼───┼──────────────┼───────────────────┼────────────────────┤\n",
       "│ Qatar                │         481 │ NaN       │ … │        167.0 │        51.2295295 │ 25.3336984\n",
       "         │\n",
       "│ Singapore            │         455 │ 23.0      │ … │         78.0 │       103.8194992 │ 1.357107\n",
       "           │\n",
       "│ Romania              │         433 │ 66.0      │ … │         23.0 │        24.6859225 │ 45.9852129\n",
       "         │\n",
       "│ Slovenia             │         414 │ 31.0      │ … │        199.0 │        14.4808369 │ 45.8133113\n",
       "         │\n",
       "│ India                │         396 │ 64.0      │ … │          0.3 │        78.6677428 │ 22.3511148\n",
       "         │\n",
       "│ Philippines          │         380 │ 73.0      │ … │          3.0 │       122.7312101 │ 12.7503486\n",
       "         │\n",
       "│ Russia               │         367 │ 61.0      │ … │          3.0 │        97.7453061 │ 64.6863136\n",
       "         │\n",
       "│ Peru                 │         363 │ 45.0      │ … │         11.0 │       -75.0458515 │ -6.8699697\n",
       "         │\n",
       "│ Bahrain              │         332 │ 22.0      │ … │        195.0 │        50.5344606 │ 26.1551249\n",
       "         │\n",
       "│ Estonia              │         326 │ 20.0      │ … │        246.0 │        25.3319078 │ 58.7523778\n",
       "         │\n",
       "│    ·                 │           · │  ·        │ · │          ·   │             ·     │     ·              │\n",
       "│    ·                 │           · │  ·        │ · │          ·   │             ·     │     ·              │\n",
       "│    ·                 │           · │  ·        │ · │          ·   │             ·     │     ·              │\n",
       "│ Montserrat           │           1 │ NaN       │ … │        200.0 │       -62.1916844 │ 16.7417041\n",
       "         │\n",
       "│ Mozambique           │           1 │ 1.0       │ … │         0.03 │        34.9144977 │ -19.302233\n",
       "         │\n",
       "│ Papua New Guinea     │           1 │ NaN       │ … │          0.1 │       144.2489081 │ -5.6816069\n",
       "         │\n",
       "│ St. Vincent Grenad…  │           1 │ NaN       │ … │          9.0 │       -61.2765569 │ 12.90447\n",
       "           │\n",
       "│ Sint Maarten         │           1 │ NaN       │ … │         23.0 │ 4.750547600771222 │ 52.755934499999995\n",
       " │\n",
       "│ Somalia              │           1 │ NaN       │ … │         0.06 │         49.083416 │ 8.3676771\n",
       "          │\n",
       "│ Syria                │           1 │ 1.0       │ … │         0.06 │        39.0494106 │ 34.6401861\n",
       "         │\n",
       "│ Timor-Leste          │           1 │ NaN       │ … │          0.8 │       125.8375756 │ -8.5151979\n",
       "         │\n",
       "│ Uganda               │           1 │ NaN       │ … │         0.02 │        32.2166578 │ 1.5333554\n",
       "          │\n",
       "│                      │           0 │ null      │ … │          0.0 │               0.0 │ null               │\n",
       "├──────────────────────┴─────────────┴───────────┴───┴──────────────┴───────────────────┴────────────────────┤\n",
       "│ 154 rows (20 shown)                                                                   11 columns (6 shown) │\n",
       "└────────────────────────────────────────────────────────────────────────────────────────────────────────────┘"
      ]
     },
     "execution_count": 98,
     "metadata": {},
     "output_type": "execute_result"
    }
   ],
   "source": [
    "con.sql(\" select * from dummy_p.parquet where \\\"Total cases\\\"<500\")"
   ]
  },
  {
   "cell_type": "code",
   "execution_count": null,
   "metadata": {},
   "outputs": [],
   "source": []
  }
 ],
 "metadata": {
  "kernelspec": {
   "display_name": "gpu",
   "language": "python",
   "name": "python3"
  },
  "language_info": {
   "codemirror_mode": {
    "name": "ipython",
    "version": 3
   },
   "file_extension": ".py",
   "mimetype": "text/x-python",
   "name": "python",
   "nbconvert_exporter": "python",
   "pygments_lexer": "ipython3",
   "version": "3.9.16"
  },
  "orig_nbformat": 4
 },
 "nbformat": 4,
 "nbformat_minor": 2
}
