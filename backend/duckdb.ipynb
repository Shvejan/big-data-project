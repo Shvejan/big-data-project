{
 "cells": [
  {
   "cell_type": "code",
   "execution_count": 12,
   "metadata": {},
   "outputs": [
    {
     "data": {
      "text/plain": [
       "┌────────────────┬────────────────┬──────────┬───────────┬─────────┬────────┐\n",
       "│ Province/State │ Country/Region │   Lat    │   Long    │  date   │ value  │\n",
       "│    varchar     │    varchar     │  double  │  double   │ varchar │ int64  │\n",
       "├────────────────┼────────────────┼──────────┼───────────┼─────────┼────────┤\n",
       "│ NULL           │ Afghanistan    │ 33.93911 │ 67.709953 │ 1/22/20 │      0 │\n",
       "│ NULL           │ Afghanistan    │ 33.93911 │ 67.709953 │ 1/23/20 │      0 │\n",
       "│ NULL           │ Afghanistan    │ 33.93911 │ 67.709953 │ 1/24/20 │      0 │\n",
       "│ NULL           │ Afghanistan    │ 33.93911 │ 67.709953 │ 1/25/20 │      0 │\n",
       "│ NULL           │ Afghanistan    │ 33.93911 │ 67.709953 │ 1/26/20 │      0 │\n",
       "│ NULL           │ Afghanistan    │ 33.93911 │ 67.709953 │ 1/27/20 │      0 │\n",
       "│ NULL           │ Afghanistan    │ 33.93911 │ 67.709953 │ 1/28/20 │      0 │\n",
       "│ NULL           │ Afghanistan    │ 33.93911 │ 67.709953 │ 1/29/20 │      0 │\n",
       "│ NULL           │ Afghanistan    │ 33.93911 │ 67.709953 │ 1/30/20 │      0 │\n",
       "│ NULL           │ Afghanistan    │ 33.93911 │ 67.709953 │ 1/31/20 │      0 │\n",
       "│  ·             │    ·           │     ·    │      ·    │    ·    │      · │\n",
       "│  ·             │    ·           │     ·    │      ·    │    ·    │      · │\n",
       "│  ·             │    ·           │     ·    │      ·    │    ·    │      · │\n",
       "│ NULL           │ Armenia        │  40.0691 │   45.0382 │ 5/17/22 │ 422917 │\n",
       "│ NULL           │ Armenia        │  40.0691 │   45.0382 │ 5/18/22 │ 422917 │\n",
       "│ NULL           │ Armenia        │  40.0691 │   45.0382 │ 5/19/22 │ 422917 │\n",
       "│ NULL           │ Armenia        │  40.0691 │   45.0382 │ 5/20/22 │ 422917 │\n",
       "│ NULL           │ Armenia        │  40.0691 │   45.0382 │ 5/21/22 │ 422917 │\n",
       "│ NULL           │ Armenia        │  40.0691 │   45.0382 │ 5/22/22 │ 422917 │\n",
       "│ NULL           │ Armenia        │  40.0691 │   45.0382 │ 5/23/22 │ 422939 │\n",
       "│ NULL           │ Armenia        │  40.0691 │   45.0382 │ 5/24/22 │ 422939 │\n",
       "│ NULL           │ Armenia        │  40.0691 │   45.0382 │ 5/25/22 │ 422939 │\n",
       "│ NULL           │ Armenia        │  40.0691 │   45.0382 │ 5/26/22 │ 422939 │\n",
       "├────────────────┴────────────────┴──────────┴───────────┴─────────┴────────┤\n",
       "│ ? rows (>9999 rows, 20 shown)                                   6 columns │\n",
       "└───────────────────────────────────────────────────────────────────────────┘"
      ]
     },
     "execution_count": 12,
     "metadata": {},
     "output_type": "execute_result"
    }
   ],
   "source": [
    "import duckdb\n",
    "from minio import Minio\n",
    "con=duckdb.connect(\"play.db\")\n",
    "con.sql(\"install 'httpfs';\")\n",
    "con.sql(\"load 'httpfs';\")\n",
    "con.sql(\"SET s3_url_style='path';\")\n",
    "con.sql(\" SET s3_endpoint='localhost:8050'\")\n",
    "con.sql(\"SET s3_use_ssl=false;\")\n",
    "con.sql(\"SET s3_access_key_id='devkey';\")\n",
    "con.sql(\"SET s3_secret_access_key='devpassword';\")\n",
    "con.sql(\" select * from read_parquet('s3://auctus-bucket/df.parquet');\")"
   ]
  },
  {
   "cell_type": "code",
   "execution_count": 30,
   "metadata": {},
   "outputs": [],
   "source": [
    "dataframe=con.sql(\"describe select * from read_parquet('s3://auctus-bucket/df.parquet')\").to_df()"
   ]
  },
  {
   "cell_type": "code",
   "execution_count": 31,
   "metadata": {},
   "outputs": [
    {
     "name": "stdout",
     "output_type": "stream",
     "text": [
      "Bucket 'auctus-bucket' already exists\n"
     ]
    }
   ],
   "source": [
    "client = Minio(\n",
    "        \"localhost:8050\",\n",
    "        access_key=\"devkey\",\n",
    "        secret_key=\"devpassword\",\n",
    "        secure=False\n",
    "    )\n",
    "\n",
    "found = client.bucket_exists(\"auctus-bucket\")\n",
    "if not found:\n",
    "    client.make_bucket(\"auctus-bucket\")\n",
    "else:\n",
    "    print(\"Bucket 'auctus-bucket' already exists\")\n",
    "\n"
   ]
  },
  {
   "cell_type": "code",
   "execution_count": 32,
   "metadata": {},
   "outputs": [
    {
     "name": "stdout",
     "output_type": "stream",
     "text": [
      "file not found\n"
     ]
    }
   ],
   "source": [
    "try:\n",
    "    response = client.get_object(\"auctus-bucket\", \"dfxx.parquet\")\n",
    "except:\n",
    "    print(\"file not found\")\n"
   ]
  },
  {
   "cell_type": "code",
   "execution_count": 33,
   "metadata": {},
   "outputs": [
    {
     "data": {
      "text/plain": [
       "<minio.helpers.ObjectWriteResult at 0x7f2492363820>"
      ]
     },
     "execution_count": 33,
     "metadata": {},
     "output_type": "execute_result"
    }
   ],
   "source": [
    "from io import BytesIO\n",
    "parquet_buffer = BytesIO()\n",
    "dataframe.to_parquet(parquet_buffer)\n",
    "\n",
    "# Upload the Parquet file to MinIO\n",
    "parquet_buffer.seek(0)\n",
    "client.put_object(\n",
    "    bucket_name=\"auctus-bucket\",\n",
    "    object_name=\"my-data.parquet\",\n",
    "    data=parquet_buffer,\n",
    "    length=parquet_buffer.getbuffer().nbytes,\n",
    "    content_type=\"application/octet-stream\"\n",
    ")"
   ]
  },
  {
   "cell_type": "code",
   "execution_count": null,
   "metadata": {},
   "outputs": [],
   "source": []
  }
 ],
 "metadata": {
  "kernelspec": {
   "display_name": "auctus",
   "language": "python",
   "name": "python3"
  },
  "language_info": {
   "codemirror_mode": {
    "name": "ipython",
    "version": 3
   },
   "file_extension": ".py",
   "mimetype": "text/x-python",
   "name": "python",
   "nbconvert_exporter": "python",
   "pygments_lexer": "ipython3",
   "version": "3.9.16"
  },
  "orig_nbformat": 4
 },
 "nbformat": 4,
 "nbformat_minor": 2
}
