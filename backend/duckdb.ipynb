{
 "cells": [
  {
   "cell_type": "code",
   "execution_count": 2,
   "metadata": {},
   "outputs": [],
   "source": [
    "import duckdb\n",
    "from minio import Minio\n",
    "con=duckdb.connect(\"play.db\")\n",
    "con.sql(\"install 'httpfs';\")\n",
    "con.sql(\"load 'httpfs';\")\n",
    "con.sql(\"SET s3_url_style='path';\")\n",
    "con.sql(\" SET s3_endpoint='localhost:8050'\")\n",
    "con.sql(\"SET s3_use_ssl=false;\")\n",
    "con.sql(\"SET s3_access_key_id='devkey';\")\n",
    "con.sql(\"SET s3_secret_access_key='devpassword';\")\n",
    "# con.sql(\" select * from read_parquet('s3://auctus-bucket/df.parquet');\")"
   ]
  },
  {
   "cell_type": "code",
   "execution_count": 4,
   "metadata": {},
   "outputs": [
    {
     "name": "stdout",
     "output_type": "stream",
     "text": [
      "An error occurred: Parser Error: syntax error at or near \"desc\"\n",
      "LINE 1: ...rquet('s3://auctus-bucket/df.parquet') desc\n",
      "                                                  ^\n"
     ]
    }
   ],
   "source": [
    "try:\n",
    "    dataframe=con.sql(\"describe select * from read_parquet('s3://auctus-bucket/df.parquet') desc\")\n",
    "except Exception as e:\n",
    "    print(f\"An error occurred: {e}\")"
   ]
  },
  {
   "cell_type": "code",
   "execution_count": 31,
   "metadata": {},
   "outputs": [
    {
     "name": "stdout",
     "output_type": "stream",
     "text": [
      "Bucket 'auctus-bucket' already exists\n"
     ]
    }
   ],
   "source": [
    "client = Minio(\n",
    "        \"localhost:8050\",\n",
    "        access_key=\"devkey\",\n",
    "        secret_key=\"devpassword\",\n",
    "        secure=False\n",
    "    )\n",
    "\n",
    "found = client.bucket_exists(\"auctus-bucket\")\n",
    "if not found:\n",
    "    client.make_bucket(\"auctus-bucket\")\n",
    "else:\n",
    "    print(\"Bucket 'auctus-bucket' already exists\")\n",
    "\n"
   ]
  },
  {
   "cell_type": "code",
   "execution_count": 32,
   "metadata": {},
   "outputs": [
    {
     "name": "stdout",
     "output_type": "stream",
     "text": [
      "file not found\n"
     ]
    }
   ],
   "source": [
    "try:\n",
    "    response = client.get_object(\"auctus-bucket\", \"dfxx.parquet\")\n",
    "except:\n",
    "    print(\"file not found\")\n"
   ]
  },
  {
   "cell_type": "code",
   "execution_count": 33,
   "metadata": {},
   "outputs": [
    {
     "data": {
      "text/plain": [
       "<minio.helpers.ObjectWriteResult at 0x7f2492363820>"
      ]
     },
     "execution_count": 33,
     "metadata": {},
     "output_type": "execute_result"
    }
   ],
   "source": [
    "from io import BytesIO\n",
    "parquet_buffer = BytesIO()\n",
    "dataframe.to_parquet(parquet_buffer)\n",
    "\n",
    "# Upload the Parquet file to MinIO\n",
    "parquet_buffer.seek(0)\n",
    "client.put_object(\n",
    "    bucket_name=\"auctus-bucket\",\n",
    "    object_name=\"my-data.parquet\",\n",
    "    data=parquet_buffer,\n",
    "    length=parquet_buffer.getbuffer().nbytes,\n",
    "    content_type=\"application/octet-stream\"\n",
    ")"
   ]
  },
  {
   "cell_type": "code",
   "execution_count": null,
   "metadata": {},
   "outputs": [],
   "source": []
  }
 ],
 "metadata": {
  "kernelspec": {
   "display_name": "auctus",
   "language": "python",
   "name": "python3"
  },
  "language_info": {
   "codemirror_mode": {
    "name": "ipython",
    "version": 3
   },
   "file_extension": ".py",
   "mimetype": "text/x-python",
   "name": "python",
   "nbconvert_exporter": "python",
   "pygments_lexer": "ipython3",
   "version": "3.9.16"
  },
  "orig_nbformat": 4
 },
 "nbformat": 4,
 "nbformat_minor": 2
}
