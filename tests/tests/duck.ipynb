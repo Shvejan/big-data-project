{
 "cells": [
  {
   "cell_type": "code",
   "execution_count": 11,
   "metadata": {},
   "outputs": [],
   "source": [
    "import duckdb\n",
    "import time\n",
    "import pandas as pd\n",
    "import glob\n",
    "import polars as pl\n",
    "import dask.dataframe as dd\n",
    "import vaex"
   ]
  },
  {
   "cell_type": "code",
   "execution_count": 6,
   "metadata": {},
   "outputs": [
    {
     "name": "stdout",
     "output_type": "stream",
     "text": [
      "CPU times: total: 297 ms\n",
      "Wall time: 335 ms\n"
     ]
    }
   ],
   "source": [
    "%%time\n",
    "pandas_df = pd.concat([pd.read_csv(f) for f in glob.glob('csv_files/*.csv')])"
   ]
  },
  {
   "cell_type": "code",
   "execution_count": 7,
   "metadata": {},
   "outputs": [
    {
     "name": "stdout",
     "output_type": "stream",
     "text": [
      "CPU times: total: 46.9 ms\n",
      "Wall time: 122 ms\n"
     ]
    }
   ],
   "source": [
    "%%time\n",
    "\n",
    "polars_df = pl.concat([pl.read_csv(f) for f in glob.glob('csv_files/*.csv')])"
   ]
  },
  {
   "cell_type": "code",
   "execution_count": 9,
   "metadata": {},
   "outputs": [
    {
     "name": "stdout",
     "output_type": "stream",
     "text": [
      "CPU times: total: 15.6 ms\n",
      "Wall time: 94.8 ms\n"
     ]
    }
   ],
   "source": [
    "%%time\n",
    "\n",
    "dask_df = dd.concat([dd.read_csv(f) for f in glob.glob('csv_files/*.csv')])"
   ]
  },
  {
   "cell_type": "code",
   "execution_count": 12,
   "metadata": {},
   "outputs": [
    {
     "name": "stdout",
     "output_type": "stream",
     "text": [
      "CPU times: total: 297 ms\n",
      "Wall time: 575 ms\n"
     ]
    }
   ],
   "source": [
    "%%time\n",
    "\n",
    "vaex_df = vaex.concat([vaex.from_csv(f) for f in glob.glob('csv_files/*.csv')])"
   ]
  },
  {
   "cell_type": "code",
   "execution_count": 4,
   "metadata": {},
   "outputs": [
    {
     "name": "stdout",
     "output_type": "stream",
     "text": [
      "CPU times: user 31.3 ms, sys: 0 ns, total: 31.3 ms\n",
      "Wall time: 35.7 ms\n"
     ]
    },
    {
     "data": {
      "text/plain": [
       "┌────────────────┬──────────────────┬─────────┬─────────┬────────────┬───────┐\n",
       "│ Province/State │  Country/Region  │   Lat   │  Long   │    date    │ value │\n",
       "│    varchar     │     varchar      │ double  │ double  │    date    │ int64 │\n",
       "├────────────────┼──────────────────┼─────────┼─────────┼────────────┼───────┤\n",
       "│ Tianjin        │ China            │ 39.3054 │ 117.323 │ 2021-08-02 │   428 │\n",
       "│ Tianjin        │ China            │ 39.3054 │ 117.323 │ 2021-08-03 │   429 │\n",
       "│ Tianjin        │ China            │ 39.3054 │ 117.323 │ 2021-08-04 │   429 │\n",
       "│ Tianjin        │ China            │ 39.3054 │ 117.323 │ 2021-08-05 │   430 │\n",
       "│ Tianjin        │ China            │ 39.3054 │ 117.323 │ 2021-08-06 │   435 │\n",
       "│ Tianjin        │ China            │ 39.3054 │ 117.323 │ 2021-08-07 │   435 │\n",
       "│ Tianjin        │ China            │ 39.3054 │ 117.323 │ 2021-08-08 │   435 │\n",
       "│ Tianjin        │ China            │ 39.3054 │ 117.323 │ 2021-08-09 │   435 │\n",
       "│ Tianjin        │ China            │ 39.3054 │ 117.323 │ 2021-08-10 │   436 │\n",
       "│ Tianjin        │ China            │ 39.3054 │ 117.323 │ 2021-08-11 │   436 │\n",
       "│  ·             │   ·              │    ·    │    ·    │     ·      │    ·  │\n",
       "│  ·             │   ·              │    ·    │    ·    │     ·      │    ·  │\n",
       "│  ·             │   ·              │    ·    │    ·    │     ·      │    ·  │\n",
       "│ NULL           │ Congo (Kinshasa) │ -4.0383 │ 21.7587 │ 2020-10-09 │ 10835 │\n",
       "│ NULL           │ Congo (Kinshasa) │ -4.0383 │ 21.7587 │ 2020-10-10 │ 10841 │\n",
       "│ NULL           │ Congo (Kinshasa) │ -4.0383 │ 21.7587 │ 2020-10-11 │ 10851 │\n",
       "│ NULL           │ Congo (Kinshasa) │ -4.0383 │ 21.7587 │ 2020-10-12 │ 10868 │\n",
       "│ NULL           │ Congo (Kinshasa) │ -4.0383 │ 21.7587 │ 2020-10-13 │ 10872 │\n",
       "│ NULL           │ Congo (Kinshasa) │ -4.0383 │ 21.7587 │ 2020-10-14 │ 10935 │\n",
       "│ NULL           │ Congo (Kinshasa) │ -4.0383 │ 21.7587 │ 2020-10-15 │ 10935 │\n",
       "│ NULL           │ Congo (Kinshasa) │ -4.0383 │ 21.7587 │ 2020-10-16 │ 10999 │\n",
       "│ NULL           │ Congo (Kinshasa) │ -4.0383 │ 21.7587 │ 2020-10-17 │ 11000 │\n",
       "│ NULL           │ Congo (Kinshasa) │ -4.0383 │ 21.7587 │ 2020-10-18 │ 11006 │\n",
       "├────────────────┴──────────────────┴─────────┴─────────┴────────────┴───────┤\n",
       "│ ? rows (>9999 rows, 20 shown)                                    6 columns │\n",
       "└────────────────────────────────────────────────────────────────────────────┘"
      ]
     },
     "execution_count": 4,
     "metadata": {},
     "output_type": "execute_result"
    }
   ],
   "source": [
    "%%time\n",
    "con=duckdb.connect(\"testdb.db\")\n",
    "con.sql(\"\"\" select * from './csv_files/*.csv' \"\"\")"
   ]
  },
  {
   "cell_type": "code",
   "execution_count": null,
   "metadata": {},
   "outputs": [],
   "source": []
  },
  {
   "cell_type": "code",
   "execution_count": null,
   "metadata": {},
   "outputs": [],
   "source": []
  },
  {
   "cell_type": "code",
   "execution_count": 5,
   "metadata": {},
   "outputs": [
    {
     "ename": "SyntaxError",
     "evalue": "EOL while scanning string literal (1692226206.py, line 1)",
     "output_type": "error",
     "traceback": [
      "\u001b[0;36m  Cell \u001b[0;32mIn[5], line 1\u001b[0;36m\u001b[0m\n\u001b[0;31m    con.execute(\"copy (from pandas_df) to 'd\u001b[0m\n\u001b[0m                                            ^\u001b[0m\n\u001b[0;31mSyntaxError\u001b[0m\u001b[0;31m:\u001b[0m EOL while scanning string literal\n"
     ]
    }
   ],
   "source": []
  },
  {
   "cell_type": "code",
   "execution_count": 7,
   "metadata": {},
   "outputs": [
    {
     "name": "stdout",
     "output_type": "stream",
     "text": [
      "CPU times: user 571 µs, sys: 126 µs, total: 697 µs\n",
      "Wall time: 703 µs\n"
     ]
    },
    {
     "data": {
      "text/plain": [
       "┌──────────────────────┬────────────────┬──────────────────────┬───┬────────────────┬──────────────────────┐\n",
       "│        image         │ contest_number │   caption_choices    │ … │ n_tokens_label │     instance_id      │\n",
       "│ struct(bytes blob,…  │     int32      │       varchar        │   │     int32      │       varchar        │\n",
       "├──────────────────────┼────────────────┼──────────────────────┼───┼────────────────┼──────────────────────┤\n",
       "│ {'bytes': \\xFF\\xD8…  │            115 │ Ever have the feel…  │ … │             61 │ aea9473a7fc8614a0a…  │\n",
       "│ {'bytes': \\xFF\\xD8…  │            469 │ It’s the new Musta…  │ … │             49 │ 54473a04a61cf597c1…  │\n",
       "│ {'bytes': \\xFF\\xD8…  │             36 │ She told me she ha…  │ … │             64 │ 56368d1da6de8e8f02…  │\n",
       "│ {'bytes': \\xFF\\xD8…  │            241 │ An optimist would …  │ … │             79 │ ba3f0d330213de6b68…  │\n",
       "│ {'bytes': \\xFF\\xD8…  │            330 │ My sister’s coming…  │ … │             93 │ bdf94f291a83a61dc3…  │\n",
       "│ {'bytes': \\xFF\\xD8…  │            459 │ Would you at least…  │ … │             86 │ 2597c389d74bef0366…  │\n",
       "│ {'bytes': \\xFF\\xD8…  │             57 │ There may be some …  │ … │             55 │ 7ecffe670765d0a504…  │\n",
       "│ {'bytes': \\xFF\\xD8…  │            221 │ Let Table Seven kn…  │ … │             55 │ 87e867b2a110d5e565…  │\n",
       "│ {'bytes': \\xFF\\xD8…  │            592 │ Take away the comp…  │ … │             68 │ 829d3ee440f0cae9e5…  │\n",
       "│ {'bytes': \\xFF\\xD8…  │            507 │ My other two wishe…  │ … │             56 │ 9e93b2a7806099808b…  │\n",
       "│          ·           │             ·  │          ·           │ · │              · │          ·           │\n",
       "│          ·           │             ·  │          ·           │ · │              · │          ·           │\n",
       "│          ·           │             ·  │          ·           │ · │              · │          ·           │\n",
       "│ {'bytes': \\xFF\\xD8…  │            582 │ Look, you agreed t…  │ … │             53 │ 48f583e88522ddaf9e…  │\n",
       "│ {'bytes': \\xFF\\xD8…  │            182 │ Yes, Officer, they…  │ … │             72 │ 473c2c38bec9fae09a…  │\n",
       "│ {'bytes': \\xFF\\xD8…  │            593 │ She left a note. N…  │ … │             75 │ a27b882322f4edae1d…  │\n",
       "│ {'bytes': \\xFF\\xD8…  │            220 │ So, for the record…  │ … │             43 │ c4abfc6b5f418a6eba…  │\n",
       "│ {'bytes': \\xFF\\xD8…  │            725 │ I'm just saying, a…  │ … │             75 │ 3288ca43cc5ca3a5ef…  │\n",
       "│ {'bytes': \\xFF\\xD8…  │            501 │ We've been struggl…  │ … │             39 │ 7c29693ff95e4158a0…  │\n",
       "│ {'bytes': \\xFF\\xD8…  │            678 │ I always knew we'd…  │ … │             40 │ 7df27975443d9915f7…  │\n",
       "│ {'bytes': \\xFF\\xD8…  │            249 │ I'm only here for …  │ … │             75 │ 142d833fc432ac984c…  │\n",
       "│ {'bytes': \\xFF\\xD8…  │             27 │ We have to find a …  │ … │             83 │ 75eb94922681f31223…  │\n",
       "│ {'bytes': \\xFF\\xD8…  │            343 │ You can tell the j…  │ … │             44 │ 73ca9649f681c3a571…  │\n",
       "├──────────────────────┴────────────────┴──────────────────────┴───┴────────────────┴──────────────────────┤\n",
       "│ 132 rows (20 shown)                                                                  6 columns (5 shown) │\n",
       "└──────────────────────────────────────────────────────────────────────────────────────────────────────────┘"
      ]
     },
     "execution_count": 7,
     "metadata": {},
     "output_type": "execute_result"
    }
   ],
   "source": [
    "%%time\n",
    "con.sql(\" from nyc.parquet\")"
   ]
  },
  {
   "cell_type": "code",
   "execution_count": null,
   "metadata": {},
   "outputs": [],
   "source": []
  }
 ],
 "metadata": {
  "kernelspec": {
   "display_name": "spark",
   "language": "python",
   "name": "python3"
  },
  "language_info": {
   "codemirror_mode": {
    "name": "ipython",
    "version": 3
   },
   "file_extension": ".py",
   "mimetype": "text/x-python",
   "name": "python",
   "nbconvert_exporter": "python",
   "pygments_lexer": "ipython3",
   "version": "3.9.16"
  },
  "orig_nbformat": 4
 },
 "nbformat": 4,
 "nbformat_minor": 2
}
